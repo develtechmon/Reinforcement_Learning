{
 "cells": [
  {
   "cell_type": "code",
   "execution_count": null,
   "metadata": {},
   "outputs": [],
   "source": [
    "import gymnasium as gym\n",
    "import ale_py\n",
    "\n",
    "gym.register_envs(ale_py)\n",
    "\n",
    "env = gym.make(\"ALE/MontezumaRevenge-v5\", render_mode=\"human\")\n",
    "observation, info = env.reset()\n",
    "\n",
    "episode_over = False\n",
    "while not episode_over:\n",
    "    action = env.action_space.sample()  # agent policy that uses the observation and info\n",
    "    observation, reward, terminated, truncated, info = env.step(action)\n",
    "\n",
    "    episode_over = terminated or truncated\n",
    "\n",
    "env.close()"
   ]
  },
  {
   "cell_type": "code",
   "execution_count": null,
   "metadata": {},
   "outputs": [],
   "source": [
    "import gymnasium as gym\n",
    "from stable_baselines3 import PPO\n",
    "from stable_baselines3.common.env_util import make_vec_env\n",
    "from stable_baselines3.common.callbacks import EvalCallback\n",
    "\n",
    "# Register the ALE/MontezumaRevenge-v5 environment\n",
    "import ale_py\n",
    "gym.register_envs(ale_py)\n",
    "\n",
    "# Create and wrap the environment\n",
    "env_id = \"ALE/MontezumaRevenge-v5\"\n",
    "env = make_vec_env(env_id, n_envs=4)  # Parallelize with 4 environments\n",
    "\n",
    "# Initialize PPO model\n",
    "model = PPO(\"CnnPolicy\", env, verbose=1, tensorboard_log=\"./ppo_montezuma_tensorboard/\")\n",
    "\n",
    "# Training the model\n",
    "eval_callback = EvalCallback(env, best_model_save_path='./logs/',\n",
    "                              log_path='./logs/', eval_freq=10000,\n",
    "                              deterministic=True, render=False)\n",
    "\n",
    "model.learn(total_timesteps=1000000, callback=eval_callback)\n",
    "\n",
    "# Save the trained model\n",
    "model.save(\"ppo_montezuma_trained\")\n",
    "\n",
    "# Close the environment\n",
    "env.close()"
   ]
  },
  {
   "cell_type": "code",
   "execution_count": null,
   "metadata": {},
   "outputs": [],
   "source": [
    "import gymnasium as gym\n",
    "from stable_baselines3 import PPO\n",
    "from stable_baselines3.common.env_util import make_vec_env\n",
    "from stable_baselines3.common.callbacks import EvalCallback\n",
    "import ale_py\n",
    "\n",
    "gym.register_envs(ale_py)\n",
    "\n",
    "env = gym.make(\"ALE/MontezumaRevenge-v5\", render_mode=\"human\")\n",
    "\n",
    "model = PPO.load(\"ppo_montezuma_trained\")\n",
    "obs, _ = env.reset()\n",
    "\n",
    "for _ in range(1000):\n",
    "    action, _states = model.predict(obs, deterministic=True)\n",
    "    obs, reward, done, truncated, info = env.step(action)\n",
    "    if done or truncated:\n",
    "        obs, _ = env.reset()"
   ]
  },
  {
   "cell_type": "code",
   "execution_count": null,
   "metadata": {},
   "outputs": [],
   "source": [
    "from stable_baselines3 import PPO\n",
    "import gymnasium as gym\n",
    "from stable_baselines3 import PPO\n",
    "from stable_baselines3.common.env_util import make_vec_env\n",
    "from stable_baselines3.common.callbacks import EvalCallback\n",
    "import ale_py\n",
    "\n",
    "# Load the trained model\n",
    "model = PPO.load(\"ppo_montezuma_trained\")\n",
    "\n",
    "# Create the environment for evaluation\n",
    "env = gym.make(\"ALE/MontezumaRevenge-v5\", render_mode=\"human\")\n",
    "obs, _ = env.reset()\n",
    "\n",
    "# Run the trained agent\n",
    "for _ in range(1000):\n",
    "    action, _states = model.predict(obs, deterministic=True)\n",
    "    obs, reward, done, truncated, info = env.step(action)\n",
    "    if done or truncated:\n",
    "        obs, _ = env.reset()\n",
    "\n",
    "env.close()\n"
   ]
  }
 ],
 "metadata": {
  "kernelspec": {
   "display_name": "ai_gym",
   "language": "python",
   "name": "python3"
  },
  "language_info": {
   "codemirror_mode": {
    "name": "ipython",
    "version": 3
   },
   "file_extension": ".py",
   "mimetype": "text/x-python",
   "name": "python",
   "nbconvert_exporter": "python",
   "pygments_lexer": "ipython3",
   "version": "3.8.10"
  }
 },
 "nbformat": 4,
 "nbformat_minor": 2
}
