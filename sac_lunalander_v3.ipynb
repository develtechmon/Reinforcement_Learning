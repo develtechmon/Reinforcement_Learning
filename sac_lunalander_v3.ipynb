{
 "cells": [
  {
   "cell_type": "markdown",
   "metadata": {},
   "source": [
    "### Step 1 : Training Without Vectorize"
   ]
  },
  {
   "cell_type": "code",
   "execution_count": null,
   "metadata": {},
   "outputs": [],
   "source": [
    "import gymnasium as gym\n",
    "from stable_baselines3 import SAC\n",
    "\n",
    "import os\n",
    "\n",
    "models_dir = \"models/SAC\"\n",
    "logdir = \"logs\"\n",
    "\n",
    "if not os.path.exists(models_dir):\n",
    "    os.makedirs(models_dir)\n",
    "\n",
    "if not os.path.exists(logdir):\n",
    "    os.makedirs(logdir)\n",
    "\n",
    "env = gym.make('LunarLander-v3')\n",
    "env.reset()\n",
    "\n",
    "model = SAC('MlpPolicy', env, verbose=1, tensorboard_log=logdir)\n",
    "\n",
    "TIMESTEPS = 10000\n",
    "iters = 0\n",
    "for i in range(30):\n",
    "    model.learn(total_timesteps=TIMESTEPS, reset_num_timesteps=False, tb_log_name=\"SAC\")\n",
    "    model.save(f\"{models_dir}/{TIMESTEPS*i}\")"
   ]
  },
  {
   "cell_type": "markdown",
   "metadata": {},
   "source": [
    "### Step 2 : Training with Vectorize"
   ]
  },
  {
   "cell_type": "code",
   "execution_count": null,
   "metadata": {},
   "outputs": [],
   "source": [
    "import gymnasium as gym\n",
    "from stable_baselines3 import SAC\n",
    "from stable_baselines3.common.env_util import make_vec_env\n",
    "import os\n",
    "\n",
    "models_dir = \"models/SAC\"\n",
    "logdir = \"logs\"\n",
    "\n",
    "if not os.path.exists(models_dir):\n",
    "    os.makedirs(models_dir)\n",
    "\n",
    "if not os.path.exists(logdir):\n",
    "    os.makedirs(logdir)\n",
    "    \n",
    "# Create and wrap the environment\n",
    "env = make_vec_env(\"LunarLanderContinuous-v3\", n_envs=4)  # Parallel environments for faster training\n",
    "\n",
    "# Define the PPO model\n",
    "model = SAC(\"MlpPolicy\", env, verbose=1, tensorboard_log=logdir)\n",
    "\n",
    "# Train the agent\n",
    "TIMESTEPS = 10000\n",
    "iters = 0\n",
    "for i in range(30):\n",
    "    model.learn(total_timesteps=TIMESTEPS, reset_num_timesteps=False, tb_log_name=\"SAC\")\n",
    "    model.save(f\"{models_dir}/{TIMESTEPS*i}\")\n",
    "\n",
    "env.close()"
   ]
  },
  {
   "cell_type": "markdown",
   "metadata": {},
   "source": [
    "### Step 2 :Test and Evaluate the Model"
   ]
  },
  {
   "cell_type": "code",
   "execution_count": 14,
   "metadata": {},
   "outputs": [
    {
     "name": "stdout",
     "output_type": "stream",
     "text": [
      "Wrapping the env with a `Monitor` wrapper\n",
      "Wrapping the env in a DummyVecEnv.\n"
     ]
    }
   ],
   "source": [
    "import gymnasium as gym\n",
    "from stable_baselines3 import SAC\n",
    "from stable_baselines3.common.env_util import make_vec_env\n",
    "import os\n",
    "\n",
    "# Load the trained model\n",
    "models_dir = \"models/SAC\"\n",
    "model_path = f\"{models_dir}/260000\"\n",
    "model = SAC.load(model_path, env=env)\n",
    "\n",
    "# Create the environment for evaluation\n",
    "env = gym.make(\"LunarLanderContinuous-v3\", render_mode=\"human\")\n",
    "\n",
    "# Run the trained model in the environment\n",
    "observation, info = env.reset()\n",
    "episode_over = False\n",
    "\n",
    "while not episode_over:\n",
    "    # Use the trained model to predict actions\n",
    "    action, _ = model.predict(observation, deterministic=True)\n",
    "    observation, reward, terminated, truncated, info = env.step(action)\n",
    "    episode_over = terminated or truncated\n",
    "\n",
    "env.close()"
   ]
  }
 ],
 "metadata": {
  "kernelspec": {
   "display_name": "ai_gym",
   "language": "python",
   "name": "python3"
  },
  "language_info": {
   "codemirror_mode": {
    "name": "ipython",
    "version": 3
   },
   "file_extension": ".py",
   "mimetype": "text/x-python",
   "name": "python",
   "nbconvert_exporter": "python",
   "pygments_lexer": "ipython3",
   "version": "3.8.10"
  }
 },
 "nbformat": 4,
 "nbformat_minor": 2
}
