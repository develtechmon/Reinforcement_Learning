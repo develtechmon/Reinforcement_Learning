{
 "cells": [
  {
   "cell_type": "markdown",
   "metadata": {},
   "source": [
    "# Getting Started\n",
    "* SAC works with continuous action spaces, but CartPole-v1 has a discrete action space.\n",
    "* For discrete action spaces, algorithms like DQN, PPO, or A2C are better suited.\n",
    "* Key Takeaways\n",
    "\n",
    "    - DQN is ideal for discrete action problems with a small or moderate action space.\n",
    "    - PPO is more flexible, handling both discrete and continuous actions, making it better for general applications.\n",
    "    - PPO provides better stability at the cost of higher computational overhead, while DQN is simpler and faster for small problems."
   ]
  },
  {
   "cell_type": "code",
   "execution_count": null,
   "metadata": {},
   "outputs": [],
   "source": [
    "!pip install gymnasium stable-baselines3 matplotlib numpy\n",
    "!pip install pygame"
   ]
  },
  {
   "cell_type": "markdown",
   "metadata": {},
   "source": [
    "### Step 1: Create and Wrap the Environment with Monitor\n",
    "* Using DQN\n",
    "\n",
    "DQN (Deep Q-Network)\n",
    "Analogy: A Treasure Hunter with a Map\n",
    "\n",
    "Imagine you’re a treasure hunter in a forest. You have a map (the environment) and a guidebook that tells you the estimated value (Q-value) of taking certain paths from different locations. Your goal is to find the most rewarding treasure.\n",
    "\n",
    "    Q-Values (Value Estimation):\n",
    "        You estimate how good it is to take a particular path from your current position.\n",
    "        For example, your guidebook might say:\n",
    "            \"If you go left, the treasure value is 5.\"\n",
    "            \"If you go right, the treasure value is 8.\"\n",
    "\n",
    "    Learning the Best Paths:\n",
    "        Initially, the guidebook is inaccurate because you haven’t explored much.\n",
    "        As you explore, you update the guidebook using trial and error:\n",
    "            If going left turns out to lead to a treasure of 10 (not 5), you revise the value for \"left.\"\n",
    "        You follow the Bellman equation to improve your estimates over time.\n",
    "\n",
    "    Exploration vs. Exploitation:\n",
    "        Sometimes, you follow the current best estimate (exploitation).\n",
    "        Other times, you try random paths to discover better routes (exploration).\n",
    "\n",
    "    Key Feature:\n",
    "        Your strategy is map-based: you rely on the guidebook (Q-values) to decide the best path at every step."
   ]
  },
  {
   "cell_type": "code",
   "execution_count": 46,
   "metadata": {},
   "outputs": [],
   "source": [
    "import gymnasium as gym\n",
    "from stable_baselines3 import DQN\n",
    "from stable_baselines3.common.monitor import Monitor\n",
    "import matplotlib.pyplot as plt\n",
    "import pandas as pd\n",
    "\n",
    "# Create the CartPole-v1 environment\n",
    "log_dir = \"./logs/\"\n",
    "env = gym.make(\"CartPole-v1\", render_mode=\"human\")\n",
    "env = Monitor(env, log_dir + \"dqn_monitor.csv\")"
   ]
  },
  {
   "cell_type": "markdown",
   "metadata": {},
   "source": [
    "### Step 2: Train the DQN Model"
   ]
  },
  {
   "cell_type": "code",
   "execution_count": null,
   "metadata": {},
   "outputs": [],
   "source": [
    "# Step 2: Train the DQN Model\n",
    "# DQN is designed for environments with discrete action spaces, making it ideal for CartPole-v1.\n",
    "print(\"Training DQN model...\")\n",
    "\n",
    "# Initialize the DQN model\n",
    "model = DQN(\"MlpPolicy\", env, verbose=1)\n",
    "\n",
    "# Train the model for 100,000 timesteps\n",
    "print(\"Training DQN model...\")\n",
    "model.learn(total_timesteps=100000)\n",
    "\n",
    "# Save the trained model\n",
    "model.save(\"dqn_cartpole\")\n",
    "print(\"Model saved as 'dqn_cartpole'.\")"
   ]
  },
  {
   "cell_type": "markdown",
   "metadata": {},
   "source": [
    "### Step 3: Test the Model and Visualize"
   ]
  },
  {
   "cell_type": "code",
   "execution_count": null,
   "metadata": {},
   "outputs": [],
   "source": [
    "# Load the trained model\n",
    "model = DQN.load(\"dqn_cartpole\")\n",
    "\n",
    "# Test the model\n",
    "obs, _ = env.reset()\n",
    "done = False\n",
    "total_reward = 0\n",
    "\n",
    "while not done:\n",
    "    # Predict the action using the trained model\n",
    "    action, _ = model.predict(obs, deterministic=True)\n",
    "    \n",
    "    # Take a step in the environment\n",
    "    obs, reward, done, *_ = env.step(action)\n",
    "    total_reward += reward\n",
    "\n",
    "    # Render the environment\n",
    "    env.render()\n",
    "\n",
    "print(f\"Total reward: {total_reward}\")\n",
    "env.close()"
   ]
  },
  {
   "cell_type": "markdown",
   "metadata": {},
   "source": [
    "### Step 4: Visualize Training Rewards"
   ]
  },
  {
   "cell_type": "code",
   "execution_count": null,
   "metadata": {},
   "outputs": [],
   "source": [
    "# Load log data from monitor.csv\n",
    "log_file = log_dir + \"monitor.csv\"\n",
    "log_data = pd.read_csv(log_file, skiprows=1)\n",
    "\n",
    "# Plot rewards\n",
    "plt.plot(log_data[\"r\"], label=\"Episode Reward\")\n",
    "plt.xlabel(\"Episodes\")\n",
    "plt.ylabel(\"Rewards\")\n",
    "plt.title(\"Training Rewards\")\n",
    "plt.legend()\n",
    "plt.show()"
   ]
  },
  {
   "cell_type": "markdown",
   "metadata": {},
   "source": [
    "### Train using PPO\n",
    "### Step 1: Create and Wrap the Environment \n",
    "* Using PPO\n",
    "\n",
    "Analogy: A Professional Athlete Training with a Coach\n",
    "\n",
    "Imagine you’re a professional athlete learning to master a complex sport (like gymnastics). Instead of relying on a static map, you have a coach who gives you personalized advice (a policy) for every situation. Your goal is to optimize your performance directly.\n",
    "\n",
    "    Policy (Direct Action Optimization):\n",
    "        The coach provides you with a strategy (policy) that tells you what move to make in any given scenario.\n",
    "        For example:\n",
    "            \"When you’re in position A, execute Move B.\"\n",
    "            The policy is like your intuition—it's learned directly through practice.\n",
    "\n",
    "    Learning Through Feedback:\n",
    "        After each performance, your coach gives feedback:\n",
    "            \"Your move in position A was excellent.\"\n",
    "            \"Your move in position B could be improved.\"\n",
    "        This feedback refines your strategy, ensuring gradual improvement.\n",
    "\n",
    "    Stability in Updates:\n",
    "        The coach makes sure your adjustments are small and controlled to avoid overtraining.\n",
    "        If you try to make drastic changes to your strategy, the coach says:\n",
    "            \"Wait! That’s too big of a change—let’s stick to small, reliable improvements.\"\n",
    "\n",
    "    Key Feature:\n",
    "        Your strategy is intuitive: instead of estimating values, you learn the best actions directly through trial and error."
   ]
  },
  {
   "cell_type": "markdown",
   "metadata": {},
   "source": [
    "### Step 2: Train the PPO Model"
   ]
  },
  {
   "cell_type": "code",
   "execution_count": null,
   "metadata": {},
   "outputs": [],
   "source": [
    "from stable_baselines3 import PPO\n",
    "import matplotlib.pyplot as plt\n",
    "import pandas as pd\n",
    "\n",
    "# Initialize PPO model\n",
    "model = PPO(\"MlpPolicy\", env, verbose=1)\n",
    "\n",
    "# Train the model\n",
    "model.learn(total_timesteps=100000)\n",
    "\n",
    "# Save the trained model\n",
    "model.save(\"ppo_cartpole\")\n"
   ]
  },
  {
   "cell_type": "markdown",
   "metadata": {},
   "source": [
    "### Step 3: Visualize Training Rewards"
   ]
  },
  {
   "cell_type": "code",
   "execution_count": 4,
   "metadata": {},
   "outputs": [
    {
     "data": {
      "image/png": "[encoded data removed]",
      "text/plain": [
       "<Figure size 640x480 with 1 Axes>"
      ]
     },
     "metadata": {},
     "output_type": "display_data"
    }
   ],
   "source": [
    "# Load log data from monitor.csv\n",
    "log_dir = \"./logs/\"\n",
    "\n",
    "log_file = log_dir + \"ppo_monitor.csv\"\n",
    "log_data = pd.read_csv(log_file, skiprows=1)\n",
    "\n",
    "# Plot rewards\n",
    "plt.plot(log_data[\"r\"], label=\"Episode Reward\")\n",
    "plt.xlabel(\"Episodes\")\n",
    "plt.ylabel(\"Rewards\")\n",
    "plt.title(\"Training Rewards\")\n",
    "plt.legend()\n",
    "plt.show()"
   ]
  },
  {
   "cell_type": "markdown",
   "metadata": {},
   "source": [
    "### Step 4: Test the Model and Visualize\n",
    "* Test Code"
   ]
  },
  {
   "cell_type": "code",
   "execution_count": 10,
   "metadata": {},
   "outputs": [
    {
     "name": "stdout",
     "output_type": "stream",
     "text": [
      "Total reward: 500.0\n"
     ]
    }
   ],
   "source": [
    "# Create the environment\n",
    "env = gym.make(\"CartPole-v1\", render_mode=\"human\")\n",
    "\n",
    "# Load the trained model\n",
    "model = PPO.load(\"ppo_cartpole\")\n",
    "\n",
    "# Test the model\n",
    "obs, _ = env.reset()\n",
    "done, truncated = False, False\n",
    "total_reward = 0\n",
    "\n",
    "while not (done or truncated):\n",
    "    # Predict the action using the trained model\n",
    "    action, _ = model.predict(obs, deterministic=True)\n",
    "    \n",
    "    # Take a step in the environment\n",
    "    obs, reward, done, truncated, info = env.step(action)\n",
    "    total_reward += reward\n",
    "\n",
    "    # Render the environment\n",
    "    env.render()\n",
    "\n",
    "print(f\"Total reward: {total_reward}\")\n",
    "env.close()"
   ]
  },
  {
   "cell_type": "markdown",
   "metadata": {},
   "source": [
    "## Full code implementation"
   ]
  },
  {
   "cell_type": "code",
   "execution_count": 5,
   "metadata": {},
   "outputs": [
    {
     "name": "stdout",
     "output_type": "stream",
     "text": [
      "Total reward: 500.0\n"
     ]
    }
   ],
   "source": [
    "# Load the trained model\n",
    "from stable_baselines3 import PPO\n",
    "import gymnasium as gym\n",
    "\n",
    "# Create the environment\n",
    "env = gym.make(\"CartPole-v1\", render_mode=\"human\")\n",
    "\n",
    "# Load the trained model\n",
    "model = PPO.load(\"ppo_cartpole\")\n",
    "\n",
    "# Test the model\n",
    "obs, _ = env.reset()\n",
    "done, truncated = False, False\n",
    "total_reward = 0\n",
    "\n",
    "while not (done or truncated):\n",
    "    # Predict the action using the trained model\n",
    "    action, _ = model.predict(obs, deterministic=True)\n",
    "    \n",
    "    # Take a step in the environment\n",
    "    obs, reward, done, truncated, info = env.step(action)\n",
    "    total_reward += reward\n",
    "\n",
    "    # Render the environment\n",
    "    env.render()\n",
    "\n",
    "# Print total reward after episode ends\n",
    "print(f\"Total reward: {total_reward}\")\n",
    "env.close()\n"
   ]
  }
 ],
 "metadata": {
  "kernelspec": {
   "display_name": "ai_rl",
   "language": "python",
   "name": "python3"
  },
  "language_info": {
   "codemirror_mode": {
    "name": "ipython",
    "version": 3
   },
   "file_extension": ".py",
   "mimetype": "text/x-python",
   "name": "python",
   "nbconvert_exporter": "python",
   "pygments_lexer": "ipython3",
   "version": "3.8.10"
  }
 },
 "nbformat": 4,
 "nbformat_minor": 2
}
